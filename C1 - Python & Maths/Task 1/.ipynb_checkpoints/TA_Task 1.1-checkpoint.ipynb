{
 "cells": [
  {
   "cell_type": "code",
   "execution_count": 95,
   "metadata": {},
   "outputs": [],
   "source": [
    "import pandas as pd\n",
    "import numpy as np\n",
    "import scipy as sp\n",
    "from scipy import spatial\n",
    "import re\n",
    "import matplotlib.pyplot as plt\n",
    "%matplotlib inline"
   ]
  },
  {
   "cell_type": "code",
   "execution_count": 105,
   "metadata": {},
   "outputs": [],
   "source": [
    "file = open('sentences.txt', mode = 'r')  # reading file\n",
    "text = file.read().lower()\n",
    "\n",
    "text = np.array(re.split('[^a-z]', text)) # creating a numpy array containing words from text file\n",
    "\n",
    "bool_array = True ^ (text == '')\n",
    "text = text[bool_array] # deleting empty words"
   ]
  },
  {
   "cell_type": "code",
   "execution_count": 78,
   "metadata": {},
   "outputs": [],
   "source": [
    "# creating a numpy \"list of lists\", where first list contains lines of the source file\n",
    "file = open('sentences.txt', mode = 'r')\n",
    "lines = []\n",
    "for line in file:\n",
    "    lines.append(np.array(re.split('[^a-z]', line.strip().lower())))\n",
    "    bool_array_lines = True ^ (lines[-1] == '')\n",
    "    lines[-1] = lines[-1][bool_array_lines]\n",
    "lines = np.array(lines)"
   ]
  },
  {
   "cell_type": "code",
   "execution_count": 79,
   "metadata": {},
   "outputs": [],
   "source": [
    "# creating a dictionary of all words encountered\n",
    "words = dict()  \n",
    "\n",
    "i = 0\n",
    "for word in text:\n",
    "    if word not in words.values():\n",
    "        words[i] = word\n",
    "        i += 1"
   ]
  },
  {
   "cell_type": "code",
   "execution_count": 80,
   "metadata": {},
   "outputs": [
    {
     "name": "stdout",
     "output_type": "stream",
     "text": [
      "[[1. 1. 1. ... 0. 0. 0.]\n",
      " [0. 0. 1. ... 0. 0. 0.]\n",
      " [0. 0. 2. ... 0. 0. 0.]\n",
      " ...\n",
      " [0. 0. 0. ... 0. 0. 0.]\n",
      " [1. 0. 1. ... 0. 0. 0.]\n",
      " [0. 0. 1. ... 1. 1. 1.]]\n"
     ]
    }
   ],
   "source": [
    "n = 22   # number of lines\n",
    "d = len(words)   # 254\n",
    "\n",
    "M = np.zeros((22, 254))\n",
    "\n",
    "for i in range(n):\n",
    "    for j in range(d):\n",
    "        M[i, j] = (lines[i] == words[j]).astype(int).sum()\n",
    "\n",
    "print(M)"
   ]
  },
  {
   "cell_type": "code",
   "execution_count": 101,
   "metadata": {},
   "outputs": [
    {
     "data": {
      "text/plain": [
       "<matplotlib.collections.PathCollection at 0x1777e16eac8>"
      ]
     },
     "execution_count": 101,
     "metadata": {},
     "output_type": "execute_result"
    },
    {
     "data": {
      "image/png": "[encoded data removed]",
      "text/plain": [
       "<matplotlib.figure.Figure at 0x1777e132d30>"
      ]
     },
     "metadata": {},
     "output_type": "display_data"
    }
   ],
   "source": [
    "# finding cosine distance between first sentence and other in the file\n",
    "\n",
    "cosine_distance = np.zeros(22)\n",
    "\n",
    "x = M[0].reshape(1, 254)\n",
    "\n",
    "for i in range(22):\n",
    "    cosine_distance[i] = spatial.distance.cosine(x, M[i].reshape(1, 254))\n",
    "\n",
    "X = np.arange(0, 22)\n",
    "Y = cosine_distance\n",
    "\n",
    "plt.scatter(X, Y)"
   ]
  },
  {
   "cell_type": "code",
   "execution_count": 111,
   "metadata": {},
   "outputs": [
    {
     "data": {
      "text/plain": [
       "3"
      ]
     },
     "execution_count": 111,
     "metadata": {},
     "output_type": "execute_result"
    }
   ],
   "source": [
    "answer = '4 6'\n",
    "submission_1 = open('submission-1.txt', mode = 'w')\n",
    "submission_1.write(answer)"
   ]
  }
 ],
 "metadata": {
  "kernelspec": {
   "display_name": "Python 3",
   "language": "python",
   "name": "python3"
  },
  "language_info": {
   "codemirror_mode": {
    "name": "ipython",
    "version": 3
   },
   "file_extension": ".py",
   "mimetype": "text/x-python",
   "name": "python",
   "nbconvert_exporter": "python",
   "pygments_lexer": "ipython3",
   "version": "3.6.4"
  }
 },
 "nbformat": 4,
 "nbformat_minor": 2
}
