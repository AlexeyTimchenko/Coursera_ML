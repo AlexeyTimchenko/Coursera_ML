{
 "cells": [
  {
   "cell_type": "code",
   "execution_count": 10,
   "id": "ea185ff4-6807-49f7-9c12-9a6942271de6",
   "metadata": {},
   "outputs": [],
   "source": [
    "import numpy as np\n",
    "import pandas as pd\n",
    "import csv\n",
    "from sklearn.cluster import MeanShift"
   ]
  },
  {
   "cell_type": "code",
   "execution_count": 5,
   "id": "c86b0f77-a21f-49ee-a1c1-3727adbbd04a",
   "metadata": {},
   "outputs": [],
   "source": [
    "with open('checkins.dat') as dat_file, open('checkins.csv', 'w') as csv_file:\n",
    "    csv_writer = csv.writer(csv_file)\n",
    "    for line in dat_file:\n",
    "        row = [field.strip() for field in line.split('|')]\n",
    "        if len(row) == 6 and row[3] and row[4]:\n",
    "            csv_writer.writerow(row)"
   ]
  },
  {
   "cell_type": "code",
   "execution_count": 9,
   "id": "19c622d6-ab79-49f4-af38-878176aa14b4",
   "metadata": {},
   "outputs": [
    {
     "data": {
      "text/html": [
       "<div>\n",
       "<style scoped>\n",
       "    .dataframe tbody tr th:only-of-type {\n",
       "        vertical-align: middle;\n",
       "    }\n",
       "\n",
       "    .dataframe tbody tr th {\n",
       "        vertical-align: top;\n",
       "    }\n",
       "\n",
       "    .dataframe thead th {\n",
       "        text-align: right;\n",
       "    }\n",
       "</style>\n",
       "<table border=\"1\" class=\"dataframe\">\n",
       "  <thead>\n",
       "    <tr style=\"text-align: right;\">\n",
       "      <th></th>\n",
       "      <th>id</th>\n",
       "      <th>user_id</th>\n",
       "      <th>venue_id</th>\n",
       "      <th>latitude</th>\n",
       "      <th>longitude</th>\n",
       "      <th>created_at</th>\n",
       "    </tr>\n",
       "  </thead>\n",
       "  <tbody>\n",
       "    <tr>\n",
       "      <th>0</th>\n",
       "      <td>984222</td>\n",
       "      <td>15824</td>\n",
       "      <td>5222</td>\n",
       "      <td>38.895112</td>\n",
       "      <td>-77.036366</td>\n",
       "      <td>2012-04-21 17:43:47</td>\n",
       "    </tr>\n",
       "    <tr>\n",
       "      <th>1</th>\n",
       "      <td>984234</td>\n",
       "      <td>44652</td>\n",
       "      <td>5222</td>\n",
       "      <td>33.800745</td>\n",
       "      <td>-84.410520</td>\n",
       "      <td>2012-04-21 17:43:43</td>\n",
       "    </tr>\n",
       "    <tr>\n",
       "      <th>2</th>\n",
       "      <td>984291</td>\n",
       "      <td>105054</td>\n",
       "      <td>5222</td>\n",
       "      <td>45.523452</td>\n",
       "      <td>-122.676207</td>\n",
       "      <td>2012-04-21 17:39:22</td>\n",
       "    </tr>\n",
       "    <tr>\n",
       "      <th>3</th>\n",
       "      <td>984318</td>\n",
       "      <td>2146539</td>\n",
       "      <td>5222</td>\n",
       "      <td>40.764462</td>\n",
       "      <td>-111.904565</td>\n",
       "      <td>2012-04-21 17:35:46</td>\n",
       "    </tr>\n",
       "    <tr>\n",
       "      <th>4</th>\n",
       "      <td>984232</td>\n",
       "      <td>93870</td>\n",
       "      <td>380645</td>\n",
       "      <td>33.448377</td>\n",
       "      <td>-112.074037</td>\n",
       "      <td>2012-04-21 17:38:18</td>\n",
       "    </tr>\n",
       "  </tbody>\n",
       "</table>\n",
       "</div>"
      ],
      "text/plain": [
       "       id  user_id  venue_id   latitude   longitude           created_at\n",
       "0  984222    15824      5222  38.895112  -77.036366  2012-04-21 17:43:47\n",
       "1  984234    44652      5222  33.800745  -84.410520  2012-04-21 17:43:43\n",
       "2  984291   105054      5222  45.523452 -122.676207  2012-04-21 17:39:22\n",
       "3  984318  2146539      5222  40.764462 -111.904565  2012-04-21 17:35:46\n",
       "4  984232    93870    380645  33.448377 -112.074037  2012-04-21 17:38:18"
      ]
     },
     "execution_count": 9,
     "metadata": {},
     "output_type": "execute_result"
    }
   ],
   "source": [
    "data = pd.read_csv(\"checkins.csv\", sep=',', header=0)\n",
    "data.head()"
   ]
  },
  {
   "cell_type": "code",
   "execution_count": 12,
   "id": "008413ff-b972-4055-8dd8-ee17bf8d80cd",
   "metadata": {},
   "outputs": [
    {
     "data": {
      "text/plain": [
       "Index(['id', 'user_id', 'venue_id', 'latitude', 'longitude', 'created_at'], dtype='object')"
      ]
     },
     "execution_count": 12,
     "metadata": {},
     "output_type": "execute_result"
    }
   ],
   "source": [
    "data.columns"
   ]
  },
  {
   "cell_type": "markdown",
   "id": "2b89434d-8e2e-48df-8015-295a32cf9b6a",
   "metadata": {},
   "source": [
    "Теперь необходимо кластеризовать данные координаты, чтобы выявить центры скоплений туристов. Поскольку баннеры имеют сравнительно небольшую площадь действия, нам нужен алгоритм, позволяющий ограничить размер кластера и не зависящий от количества кластеров.\n",
    "\n",
    "Эта задача — хороший повод познакомиться с алгоритмом MeanShift, который мы обошли стороной в основной части лекций. Его описание при желании можно посмотреть в sklearn user guide, а чуть позже появится дополнительное видео с обзором этого и некоторых других алгоритмов кластеризации. Используйте MeanShift, указав bandwidth=0.1, что в переводе из градусов в метры колеблется примерно от 5 до 10 км в средних широтах.\n",
    "\n",
    "Примечание:на 396634 строках кластеризация будет работать долго. Быть очень терпеливым не возбраняется — результат от этого только улучшится. Но для того, чтобы сдать задание, понадобится сабсет из первых 100 тысяч строк. Это компромисс между качеством и затраченным временем. Обучение алгоритма на всём датасете занимает около часа, а на 100 тыс. строк — примерно 2 минуты, однако этого достаточно для получения корректных результатов.\n",
    "\n"
   ]
  },
  {
   "cell_type": "code",
   "execution_count": 21,
   "id": "1d2fe34d-d2f6-44fe-8bcb-55b99fcde7f1",
   "metadata": {},
   "outputs": [
    {
     "data": {
      "text/plain": [
       "(100000, 2)"
      ]
     },
     "execution_count": 21,
     "metadata": {},
     "output_type": "execute_result"
    }
   ],
   "source": [
    "# initialize training set\n",
    "X = np.array(data.loc[:100000 - 1, ['latitude', 'longitude']])\n",
    "X.shape"
   ]
  },
  {
   "cell_type": "code",
   "execution_count": 22,
   "id": "7e0147ef-3b0e-449b-88c7-9bf8bfaef624",
   "metadata": {},
   "outputs": [
    {
     "data": {
      "text/plain": [
       "MeanShift(bandwidth=0.1)"
      ]
     },
     "execution_count": 22,
     "metadata": {},
     "output_type": "execute_result"
    }
   ],
   "source": [
    "# initialize clustering model\n",
    "model = MeanShift(bandwidth=0.1)\n",
    "\n",
    "model.fit(X)"
   ]
  },
  {
   "cell_type": "code",
   "execution_count": 23,
   "id": "4063dc91-53e0-4e1d-a33a-a589ed2937f0",
   "metadata": {},
   "outputs": [
    {
     "data": {
      "text/plain": [
       "{'bandwidth': 0.1,\n",
       " 'seeds': None,\n",
       " 'bin_seeding': False,\n",
       " 'cluster_all': True,\n",
       " 'min_bin_freq': 1,\n",
       " 'n_jobs': None,\n",
       " 'max_iter': 300,\n",
       " 'n_features_in_': 2,\n",
       " 'n_iter_': 22,\n",
       " 'cluster_centers_': array([[  40.7177164 ,  -73.99183542],\n",
       "        [  33.44943805, -112.00213969],\n",
       "        [  33.44638027, -111.90188756],\n",
       "        ...,\n",
       "        [ -37.8229826 ,  145.1811902 ],\n",
       "        [ -41.2924945 ,  174.7732353 ],\n",
       "        [ -45.0311622 ,  168.6626435 ]]),\n",
       " 'labels_': array([ 5,  7, 30, ..., 25, 19,  4], dtype=int64)}"
      ]
     },
     "execution_count": 23,
     "metadata": {},
     "output_type": "execute_result"
    }
   ],
   "source": [
    "model.__dict__"
   ]
  },
  {
   "cell_type": "code",
   "execution_count": 30,
   "id": "da9fd9e3-a828-44ec-936e-b7e7c5b36bfc",
   "metadata": {},
   "outputs": [
    {
     "data": {
      "text/plain": [
       "3231"
      ]
     },
     "execution_count": 30,
     "metadata": {},
     "output_type": "execute_result"
    }
   ],
   "source": [
    "df = pd.DataFrame(data=model.cluster_centers_)\n",
    "df.to_csv(\"cluster_centers.csv\", index=False, header=False)"
   ]
  },
  {
   "cell_type": "markdown",
   "id": "2e31e34a-469c-4125-87ad-a9c5155510d2",
   "metadata": {},
   "source": [
    "Некоторые из получившихся кластеров содержат слишком мало точек — такие кластеры не интересны рекламодателям. Поэтому надо определить, какие из кластеров содержат, скажем, больше 15 элементов. Центры этих кластеров и являются оптимальными для размещения."
   ]
  },
  {
   "cell_type": "markdown",
   "id": "24481f46-2c64-4396-9825-b90791ad6294",
   "metadata": {},
   "source": [
    "Importing counter to count number of items in a cluster"
   ]
  },
  {
   "cell_type": "code",
   "execution_count": 45,
   "id": "aa3f4fb8-61fe-4686-a56c-04c3b06a6423",
   "metadata": {},
   "outputs": [],
   "source": [
    "from collections import Counter\n",
    "\n",
    "c = Counter(model.labels_)\n",
    "\n",
    "large_cluster_indices = [key for key in c.keys() if dict(c)[key] > 15]"
   ]
  },
  {
   "cell_type": "code",
   "execution_count": 46,
   "id": "efcb2e74-a64c-4f29-b010-01ac44e2f58c",
   "metadata": {},
   "outputs": [
    {
     "data": {
      "text/plain": [
       "592"
      ]
     },
     "execution_count": 46,
     "metadata": {},
     "output_type": "execute_result"
    }
   ],
   "source": [
    "len(large_cluster_indices)"
   ]
  },
  {
   "cell_type": "code",
   "execution_count": 47,
   "id": "1aa3b422-84ff-4908-b526-ebca14b9ea42",
   "metadata": {},
   "outputs": [],
   "source": [
    "df = pd.DataFrame(data=model.cluster_centers_[large_cluster_indices])\n",
    "df.to_csv(\"large_cluster_centers.csv\", index=False, header=False)"
   ]
  },
  {
   "cell_type": "markdown",
   "id": "8e01acae-1116-4b03-8a1f-5934eb8ef0fd",
   "metadata": {},
   "source": [
    "При желании увидеть получившиеся результаты на карте можно передать центры получившихся кластеров в один из инструментов визуализации. Например, сайт mapcustomizer.com имеет функцию Bulk Entry, куда можно вставить центры полученных кластеров в формате"
   ]
  },
  {
   "cell_type": "markdown",
   "id": "15489044-7871-456d-8550-92c14794912d",
   "metadata": {},
   "source": [
    "Как мы помним, 20 баннеров надо разместить близ офисов компании. Найдем на Google Maps по запросу Carnival Cruise Line адреса всех офисов:"
   ]
  },
  {
   "cell_type": "code",
   "execution_count": 51,
   "id": "33b3213a-ce0e-4ae8-9304-7ffc4345508e",
   "metadata": {},
   "outputs": [
    {
     "data": {
      "text/html": [
       "<div>\n",
       "<style scoped>\n",
       "    .dataframe tbody tr th:only-of-type {\n",
       "        vertical-align: middle;\n",
       "    }\n",
       "\n",
       "    .dataframe tbody tr th {\n",
       "        vertical-align: top;\n",
       "    }\n",
       "\n",
       "    .dataframe thead th {\n",
       "        text-align: right;\n",
       "    }\n",
       "</style>\n",
       "<table border=\"1\" class=\"dataframe\">\n",
       "  <thead>\n",
       "    <tr style=\"text-align: right;\">\n",
       "      <th></th>\n",
       "      <th>x</th>\n",
       "      <th>y</th>\n",
       "    </tr>\n",
       "  </thead>\n",
       "  <tbody>\n",
       "    <tr>\n",
       "      <th>0</th>\n",
       "      <td>33.751277</td>\n",
       "      <td>-118.188740</td>\n",
       "    </tr>\n",
       "    <tr>\n",
       "      <th>1</th>\n",
       "      <td>25.867736</td>\n",
       "      <td>-80.324116</td>\n",
       "    </tr>\n",
       "    <tr>\n",
       "      <th>2</th>\n",
       "      <td>51.503016</td>\n",
       "      <td>-0.075479</td>\n",
       "    </tr>\n",
       "    <tr>\n",
       "      <th>3</th>\n",
       "      <td>52.378894</td>\n",
       "      <td>4.885084</td>\n",
       "    </tr>\n",
       "    <tr>\n",
       "      <th>4</th>\n",
       "      <td>39.366487</td>\n",
       "      <td>117.036146</td>\n",
       "    </tr>\n",
       "    <tr>\n",
       "      <th>5</th>\n",
       "      <td>-33.868457</td>\n",
       "      <td>151.205134</td>\n",
       "    </tr>\n",
       "  </tbody>\n",
       "</table>\n",
       "</div>"
      ],
      "text/plain": [
       "           x           y\n",
       "0  33.751277 -118.188740\n",
       "1  25.867736  -80.324116\n",
       "2  51.503016   -0.075479\n",
       "3  52.378894    4.885084\n",
       "4  39.366487  117.036146\n",
       "5 -33.868457  151.205134"
      ]
     },
     "execution_count": 51,
     "metadata": {},
     "output_type": "execute_result"
    }
   ],
   "source": [
    "offices = pd.read_csv('offices.txt', names=['x', 'y'], sep=',')\n",
    "\n",
    "offices"
   ]
  },
  {
   "cell_type": "markdown",
   "id": "a02633d9-2cbe-4e48-8bdd-280ad4c099e9",
   "metadata": {},
   "source": [
    "Осталось определить 20 ближайших к ним центров кластеров. Т.е. посчитать дистанцию до ближайшего офиса для каждой точки и выбрать 20 с наименьшим значением.\n",
    "\n",
    "Примечание: при подсчете расстояний и в кластеризации можно пренебречь тем, что Земля круглая, так как в точках, расположенных близко друг к другу погрешность мала, а в остальных точках значение достаточно велико.\n",
    "\n",
    "Для сдачи задания выберите из получившихся 20 центров тот, который наименее удален от ближайшего к нему офиса. Ответ в этом задании — широта и долгота этого центра, записанные через пробел."
   ]
  },
  {
   "cell_type": "code",
   "execution_count": 53,
   "id": "b86c128b-c27c-43b9-8bfb-2608ceb8a69d",
   "metadata": {},
   "outputs": [],
   "source": [
    "def distance_to_nearest_office(x, y):\n",
    "    \n",
    "    office_x = np.array(offices.x)\n",
    "    office_y = np.array(offices.y)\n",
    "    \n",
    "    distances = np.sqrt((office_x - x) ** 2 + (office_y - y) ** 2)\n",
    "    \n",
    "    return distances.min()"
   ]
  },
  {
   "cell_type": "code",
   "execution_count": 61,
   "id": "3d0b6831-d7c5-473c-9a14-236e5f6c193c",
   "metadata": {},
   "outputs": [
    {
     "data": {
      "text/html": [
       "<div>\n",
       "<style scoped>\n",
       "    .dataframe tbody tr th:only-of-type {\n",
       "        vertical-align: middle;\n",
       "    }\n",
       "\n",
       "    .dataframe tbody tr th {\n",
       "        vertical-align: top;\n",
       "    }\n",
       "\n",
       "    .dataframe thead th {\n",
       "        text-align: right;\n",
       "    }\n",
       "</style>\n",
       "<table border=\"1\" class=\"dataframe\">\n",
       "  <thead>\n",
       "    <tr style=\"text-align: right;\">\n",
       "      <th></th>\n",
       "      <th>x</th>\n",
       "      <th>y</th>\n",
       "    </tr>\n",
       "  </thead>\n",
       "  <tbody>\n",
       "    <tr>\n",
       "      <th>0</th>\n",
       "      <td>38.886165</td>\n",
       "      <td>-77.048783</td>\n",
       "    </tr>\n",
       "    <tr>\n",
       "      <th>1</th>\n",
       "      <td>33.766636</td>\n",
       "      <td>-84.393289</td>\n",
       "    </tr>\n",
       "    <tr>\n",
       "      <th>2</th>\n",
       "      <td>45.523483</td>\n",
       "      <td>-122.676280</td>\n",
       "    </tr>\n",
       "    <tr>\n",
       "      <th>3</th>\n",
       "      <td>40.759600</td>\n",
       "      <td>-111.896078</td>\n",
       "    </tr>\n",
       "    <tr>\n",
       "      <th>4</th>\n",
       "      <td>33.449438</td>\n",
       "      <td>-112.002140</td>\n",
       "    </tr>\n",
       "    <tr>\n",
       "      <th>...</th>\n",
       "      <td>...</td>\n",
       "      <td>...</td>\n",
       "    </tr>\n",
       "    <tr>\n",
       "      <th>587</th>\n",
       "      <td>-33.050462</td>\n",
       "      <td>-71.616452</td>\n",
       "    </tr>\n",
       "    <tr>\n",
       "      <th>588</th>\n",
       "      <td>-8.664363</td>\n",
       "      <td>115.211340</td>\n",
       "    </tr>\n",
       "    <tr>\n",
       "      <th>589</th>\n",
       "      <td>50.111512</td>\n",
       "      <td>8.680506</td>\n",
       "    </tr>\n",
       "    <tr>\n",
       "      <th>590</th>\n",
       "      <td>42.016667</td>\n",
       "      <td>-94.376667</td>\n",
       "    </tr>\n",
       "    <tr>\n",
       "      <th>591</th>\n",
       "      <td>37.204643</td>\n",
       "      <td>-80.412689</td>\n",
       "    </tr>\n",
       "  </tbody>\n",
       "</table>\n",
       "<p>592 rows × 2 columns</p>\n",
       "</div>"
      ],
      "text/plain": [
       "             x           y\n",
       "0    38.886165  -77.048783\n",
       "1    33.766636  -84.393289\n",
       "2    45.523483 -122.676280\n",
       "3    40.759600 -111.896078\n",
       "4    33.449438 -112.002140\n",
       "..         ...         ...\n",
       "587 -33.050462  -71.616452\n",
       "588  -8.664363  115.211340\n",
       "589  50.111512    8.680506\n",
       "590  42.016667  -94.376667\n",
       "591  37.204643  -80.412689\n",
       "\n",
       "[592 rows x 2 columns]"
      ]
     },
     "execution_count": 61,
     "metadata": {},
     "output_type": "execute_result"
    }
   ],
   "source": [
    "df.columns = ['x', 'y']\n",
    "\n",
    "df"
   ]
  },
  {
   "cell_type": "code",
   "execution_count": 64,
   "id": "c7720755-7fc8-4b41-8b49-f6761be50b7c",
   "metadata": {},
   "outputs": [
    {
     "data": {
      "text/html": [
       "<div>\n",
       "<style scoped>\n",
       "    .dataframe tbody tr th:only-of-type {\n",
       "        vertical-align: middle;\n",
       "    }\n",
       "\n",
       "    .dataframe tbody tr th {\n",
       "        vertical-align: top;\n",
       "    }\n",
       "\n",
       "    .dataframe thead th {\n",
       "        text-align: right;\n",
       "    }\n",
       "</style>\n",
       "<table border=\"1\" class=\"dataframe\">\n",
       "  <thead>\n",
       "    <tr style=\"text-align: right;\">\n",
       "      <th></th>\n",
       "      <th>x</th>\n",
       "      <th>y</th>\n",
       "      <th>distance</th>\n",
       "    </tr>\n",
       "  </thead>\n",
       "  <tbody>\n",
       "    <tr>\n",
       "      <th>0</th>\n",
       "      <td>38.886165</td>\n",
       "      <td>-77.048783</td>\n",
       "      <td>13.424131</td>\n",
       "    </tr>\n",
       "    <tr>\n",
       "      <th>1</th>\n",
       "      <td>33.766636</td>\n",
       "      <td>-84.393289</td>\n",
       "      <td>8.885426</td>\n",
       "    </tr>\n",
       "    <tr>\n",
       "      <th>2</th>\n",
       "      <td>45.523483</td>\n",
       "      <td>-122.676280</td>\n",
       "      <td>12.598526</td>\n",
       "    </tr>\n",
       "    <tr>\n",
       "      <th>3</th>\n",
       "      <td>40.759600</td>\n",
       "      <td>-111.896078</td>\n",
       "      <td>9.418821</td>\n",
       "    </tr>\n",
       "    <tr>\n",
       "      <th>4</th>\n",
       "      <td>33.449438</td>\n",
       "      <td>-112.002140</td>\n",
       "      <td>6.193959</td>\n",
       "    </tr>\n",
       "    <tr>\n",
       "      <th>...</th>\n",
       "      <td>...</td>\n",
       "      <td>...</td>\n",
       "      <td>...</td>\n",
       "    </tr>\n",
       "    <tr>\n",
       "      <th>587</th>\n",
       "      <td>-33.050462</td>\n",
       "      <td>-71.616452</td>\n",
       "      <td>59.558186</td>\n",
       "    </tr>\n",
       "    <tr>\n",
       "      <th>588</th>\n",
       "      <td>-8.664363</td>\n",
       "      <td>115.211340</td>\n",
       "      <td>43.940864</td>\n",
       "    </tr>\n",
       "    <tr>\n",
       "      <th>589</th>\n",
       "      <td>50.111512</td>\n",
       "      <td>8.680506</td>\n",
       "      <td>4.421114</td>\n",
       "    </tr>\n",
       "    <tr>\n",
       "      <th>590</th>\n",
       "      <td>42.016667</td>\n",
       "      <td>-94.376667</td>\n",
       "      <td>21.407058</td>\n",
       "    </tr>\n",
       "    <tr>\n",
       "      <th>591</th>\n",
       "      <td>37.204643</td>\n",
       "      <td>-80.412689</td>\n",
       "      <td>11.337253</td>\n",
       "    </tr>\n",
       "  </tbody>\n",
       "</table>\n",
       "<p>592 rows × 3 columns</p>\n",
       "</div>"
      ],
      "text/plain": [
       "             x           y   distance\n",
       "0    38.886165  -77.048783  13.424131\n",
       "1    33.766636  -84.393289   8.885426\n",
       "2    45.523483 -122.676280  12.598526\n",
       "3    40.759600 -111.896078   9.418821\n",
       "4    33.449438 -112.002140   6.193959\n",
       "..         ...         ...        ...\n",
       "587 -33.050462  -71.616452  59.558186\n",
       "588  -8.664363  115.211340  43.940864\n",
       "589  50.111512    8.680506   4.421114\n",
       "590  42.016667  -94.376667  21.407058\n",
       "591  37.204643  -80.412689  11.337253\n",
       "\n",
       "[592 rows x 3 columns]"
      ]
     },
     "execution_count": 64,
     "metadata": {},
     "output_type": "execute_result"
    }
   ],
   "source": [
    "df['distance'] = df.apply(lambda entry: distance_to_nearest_office(entry['x'], entry['y']), axis=1)\n",
    "\n",
    "df"
   ]
  },
  {
   "cell_type": "code",
   "execution_count": 78,
   "id": "62a2ec80-d5ea-4347-a2b8-99b587a36bf8",
   "metadata": {},
   "outputs": [
    {
     "data": {
      "text/plain": [
       "array([139, 270, 355, 118,  18, 165, 140, 112, 184,  93, 124, 248, 278,\n",
       "       135, 106,  11,  15, 134,  52,  16], dtype=int64)"
      ]
     },
     "execution_count": 78,
     "metadata": {},
     "output_type": "execute_result"
    }
   ],
   "source": [
    "nearest_clusters = np.argsort(np.array(df['distance']))\n",
    "\n",
    "nearest_clusters[:20]"
   ]
  },
  {
   "cell_type": "code",
   "execution_count": 83,
   "id": "fefdc1e1-35c9-4b29-aa3f-3fcf97c2ae3b",
   "metadata": {},
   "outputs": [
    {
     "data": {
      "text/plain": [
       "x           -33.860630\n",
       "y           151.204776\n",
       "distance      0.007835\n",
       "Name: 139, dtype: float64"
      ]
     },
     "execution_count": 83,
     "metadata": {},
     "output_type": "execute_result"
    }
   ],
   "source": [
    "nearest = df.loc[139, :]\n",
    "nearest"
   ]
  },
  {
   "cell_type": "code",
   "execution_count": 84,
   "id": "6eb5f5a3-b301-4100-a8b1-c4a3721b7b41",
   "metadata": {},
   "outputs": [],
   "source": [
    "with open('ans.txt', 'w') as f:\n",
    "    f.write(f\"{nearest.x} {nearest.y}\")"
   ]
  },
  {
   "cell_type": "code",
   "execution_count": null,
   "id": "f88b679d-dd0f-4ecf-b1c3-1c2a66c35eaa",
   "metadata": {},
   "outputs": [],
   "source": []
  }
 ],
 "metadata": {
  "kernelspec": {
   "display_name": "Python 3 (ipykernel)",
   "language": "python",
   "name": "python3"
  },
  "language_info": {
   "codemirror_mode": {
    "name": "ipython",
    "version": 3
   },
   "file_extension": ".py",
   "mimetype": "text/x-python",
   "name": "python",
   "nbconvert_exporter": "python",
   "pygments_lexer": "ipython3",
   "version": "3.8.12"
  }
 },
 "nbformat": 4,
 "nbformat_minor": 5
}
