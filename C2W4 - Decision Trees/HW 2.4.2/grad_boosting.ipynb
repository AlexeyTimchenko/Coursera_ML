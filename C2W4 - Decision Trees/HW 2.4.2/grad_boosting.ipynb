{
 "cells": [
  {
   "cell_type": "markdown",
   "metadata": {},
   "source": [
    "# Градиентный бустинг своими руками\n",
    "\n",
    "**Внимание:** в тексте задания произошли изменения - поменялось число деревьев (теперь 50), правило изменения величины шага в задании 3 и добавился параметр `random_state` у решающего дерева. Правильные ответы не поменялись, но теперь их проще получить. Также исправлена опечатка в функции `gbm_predict`.\n",
    "\n",
    "В этом задании будет использоваться датасет `boston` из `sklearn.datasets`. Оставьте последние 25% объектов для контроля качества, разделив `X` и `y` на `X_train`, `y_train` и `X_test`, `y_test`.\n",
    "\n",
    "Целью задания будет реализовать простой вариант градиентного бустинга над регрессионными деревьями для случая квадратичной функции потерь."
   ]
  },
  {
   "cell_type": "code",
   "execution_count": 33,
   "metadata": {
    "tags": []
   },
   "outputs": [],
   "source": [
    "import numpy as np\n",
    "import pandas as pd\n",
    "from sklearn.datasets import load_boston\n",
    "from sklearn.model_selection import train_test_split\n",
    "from sklearn.tree import DecisionTreeRegressor\n",
    "from sklearn.metrics import mean_squared_error\n",
    "import matplotlib.pyplot as plt"
   ]
  },
  {
   "cell_type": "code",
   "execution_count": 8,
   "metadata": {},
   "outputs": [],
   "source": [
    "X, y = load_boston(return_X_y=True)\n",
    "\n",
    "X_train, X_test, y_train, y_test = train_test_split(X, y, random_state=0)"
   ]
  },
  {
   "cell_type": "markdown",
   "metadata": {},
   "source": [
    "## Задание 1\n",
    "\n",
    "Как вы уже знаете из лекций, **бустинг** - это метод построения композиций базовых алгоритмов с помощью последовательного добавления к текущей композиции нового алгоритма с некоторым коэффициентом. \n",
    "\n",
    "Градиентный бустинг обучает каждый новый алгоритм так, чтобы он приближал антиградиент ошибки по ответам композиции на обучающей выборке. Аналогично минимизации функций методом градиентного спуска, в градиентном бустинге мы подправляем композицию, изменяя алгоритм в направлении антиградиента ошибки.\n",
    "\n",
    "Воспользуйтесь формулой из лекций, задающей ответы на обучающей выборке, на которые нужно обучать новый алгоритм (фактически это лишь чуть более подробно расписанный градиент от ошибки), и получите частный ее случай, если функция потерь `L` - квадрат отклонения ответа композиции `a(x)` от правильного ответа `y` на данном `x`.\n",
    "\n",
    "Если вы давно не считали производную самостоятельно, вам поможет таблица производных элементарных функций (которую несложно найти в интернете) и правило дифференцирования сложной функции. После дифференцирования квадрата у вас возникнет множитель 2 — т.к. нам все равно предстоит выбирать коэффициент, с которым будет добавлен новый базовый алгоритм, проигноируйте этот множитель при дальнейшем построении алгоритма."
   ]
  },
  {
   "cell_type": "code",
   "execution_count": null,
   "metadata": {
    "tags": []
   },
   "outputs": [],
   "source": []
  },
  {
   "cell_type": "markdown",
   "metadata": {},
   "source": [
    "## Задание 2\n",
    "\n",
    "Заведите массив для объектов `DecisionTreeRegressor` (будем их использовать в качестве базовых алгоритмов) и для вещественных чисел (это будут коэффициенты перед базовыми алгоритмами). \n",
    "\n",
    "В цикле от обучите последовательно 50 решающих деревьев с параметрами `max_depth=5` и `random_state=42` (остальные параметры - по умолчанию). В бустинге зачастую используются сотни и тысячи деревьев, но мы ограничимся 50, чтобы алгоритм работал быстрее, и его было проще отлаживать (т.к. цель задания разобраться, как работает метод). Каждое дерево должно обучаться на одном и том же множестве объектов, но ответы, которые учится прогнозировать дерево, будут меняться в соответствие с полученным в задании 1 правилом. \n",
    "\n",
    "Попробуйте для начала всегда брать коэффициент равным 0.9. Обычно оправдано выбирать коэффициент значительно меньшим - порядка 0.05 или 0.1, но т.к. в нашем учебном примере на стандартном датасете будет всего 50 деревьев, возьмем для начала шаг побольше.\n",
    "\n",
    "В процессе реализации обучения вам потребуется функция, которая будет вычислять прогноз построенной на данный момент композиции деревьев на выборке `X`:\n",
    "\n",
    "```\n",
    "def gbm_predict(X):\n",
    "    return [sum([coeff * algo.predict([x])[0] for algo, coeff in zip(base_algorithms_list, coefficients_list)]) for x in X]\n",
    "(считаем, что base_algorithms_list - список с базовыми алгоритмами, coefficients_list - список с коэффициентами перед алгоритмами)\n",
    "```\n",
    "\n",
    "Эта же функция поможет вам получить прогноз на контрольной выборке и оценить качество работы вашего алгоритма с помощью `mean_squared_error` в `sklearn.metrics`. \n",
    "\n",
    "Возведите результат в степень 0.5, чтобы получить `RMSE`. Полученное значение `RMSE` — **ответ в пункте 2**."
   ]
  },
  {
   "cell_type": "code",
   "execution_count": 20,
   "metadata": {
    "tags": []
   },
   "outputs": [
    {
     "name": "stdout",
     "output_type": "stream",
     "text": [
      "1 - Train RMSE: 3.179641859438379\n",
      "2 - Train RMSE: 1.5867023764751826\n",
      "3 - Train RMSE: 1.3537786436360215\n",
      "4 - Train RMSE: 1.1149527586144585\n",
      "5 - Train RMSE: 0.9479595060723494\n",
      "6 - Train RMSE: 0.8374186389840599\n",
      "7 - Train RMSE: 0.7351074234388975\n",
      "8 - Train RMSE: 0.618934234328601\n",
      "9 - Train RMSE: 0.5460896967039616\n",
      "10 - Train RMSE: 0.5000348859366555\n",
      "11 - Train RMSE: 0.4222874406225565\n",
      "12 - Train RMSE: 0.3493982462642445\n",
      "13 - Train RMSE: 0.31127806880967757\n",
      "14 - Train RMSE: 0.2671691164753451\n",
      "15 - Train RMSE: 0.23993488193993265\n",
      "16 - Train RMSE: 0.21232013365420574\n",
      "17 - Train RMSE: 0.18136568655346783\n",
      "18 - Train RMSE: 0.15851881371998108\n",
      "19 - Train RMSE: 0.14522908229289314\n",
      "20 - Train RMSE: 0.12118432125307538\n",
      "21 - Train RMSE: 0.1127979786066556\n",
      "22 - Train RMSE: 0.09144122774905195\n",
      "23 - Train RMSE: 0.08380210256234528\n",
      "24 - Train RMSE: 0.06837035243983829\n",
      "25 - Train RMSE: 0.05783406260951677\n",
      "26 - Train RMSE: 0.051068347843405304\n",
      "27 - Train RMSE: 0.0459782805333939\n",
      "28 - Train RMSE: 0.04120480249280486\n",
      "29 - Train RMSE: 0.035391285497663606\n",
      "30 - Train RMSE: 0.0315651595870087\n",
      "31 - Train RMSE: 0.02728015528578323\n",
      "32 - Train RMSE: 0.022996388628404956\n",
      "33 - Train RMSE: 0.020794491345073354\n",
      "34 - Train RMSE: 0.017804043994999692\n",
      "35 - Train RMSE: 0.014767053043425163\n",
      "36 - Train RMSE: 0.01347909377384402\n",
      "37 - Train RMSE: 0.01106914444104785\n",
      "38 - Train RMSE: 0.009571546757842025\n",
      "39 - Train RMSE: 0.009236346043470596\n",
      "40 - Train RMSE: 0.008113530946597091\n",
      "41 - Train RMSE: 0.0076553887503547505\n",
      "42 - Train RMSE: 0.0066567874068332875\n",
      "43 - Train RMSE: 0.0062338286584449005\n",
      "44 - Train RMSE: 0.0056457655691303735\n",
      "45 - Train RMSE: 0.0046694357428783174\n",
      "46 - Train RMSE: 0.004264043813349526\n",
      "47 - Train RMSE: 0.003296426105835814\n",
      "48 - Train RMSE: 0.002919642823904902\n",
      "49 - Train RMSE: 0.0027933938115838083\n"
     ]
    }
   ],
   "source": [
    "n_estimators = 50\n",
    "base_algo_list = [DecisionTreeRegressor(max_depth=5, random_state=42)]\n",
    "coeff_list = [0.9]\n",
    "\n",
    "def gbm_predict(X, base_algorithms_list, coefficients_list):\n",
    "    return [sum([coeff * algo.predict([x])[0] for algo, coeff in zip(base_algorithms_list, coefficients_list)]) for x in X]\n",
    "\n",
    "y_train_iter = y_train.copy()\n",
    "base_algo_list[0].fit(X_train, y_train_iter)\n",
    "y_pred_iter = base_algo_list[0].predict(X_train)\n",
    "\n",
    "for i in range(1, n_estimators):\n",
    "    y_train_iter = y_train - y_pred_iter\n",
    "    \n",
    "    base_algo_list.append(DecisionTreeRegressor(max_depth=5, random_state=42).fit(X_train, y_train_iter))\n",
    "    coeff_list.append(0.9)\n",
    "    \n",
    "    y_pred_iter =  np.array(gbm_predict(X_train, base_algo_list, coeff_list))\n",
    "    print(f\"{i} - Train RMSE: {np.sqrt(mean_squared_error(y_train, y_pred_iter))}\")\n",
    "    \n",
    "    \n",
    "    "
   ]
  },
  {
   "cell_type": "code",
   "execution_count": 21,
   "metadata": {},
   "outputs": [],
   "source": [
    "error1 = mean_squared_error(gbm_predict(X_test, base_algo_list, coeff_list), y_test)"
   ]
  },
  {
   "cell_type": "code",
   "execution_count": 22,
   "metadata": {},
   "outputs": [
    {
     "data": {
      "text/plain": [
       "27.293388050902582"
      ]
     },
     "execution_count": 22,
     "metadata": {},
     "output_type": "execute_result"
    }
   ],
   "source": [
    "error1"
   ]
  },
  {
   "cell_type": "code",
   "execution_count": 24,
   "metadata": {},
   "outputs": [],
   "source": [
    "with open('ans2.txt', 'w') as f:\n",
    "    f.write(str(np.sqrt(error1)))"
   ]
  },
  {
   "cell_type": "markdown",
   "metadata": {},
   "source": [
    "## Задание 3\n",
    "\n",
    "Вас может также беспокоить, что двигаясь с постоянным шагом, вблизи минимума ошибки ответы на обучающей выборке меняются слишком резко, перескакивая через минимум. \n",
    "\n",
    "Попробуйте уменьшать вес перед каждым алгоритмом с каждой следующей итерацией по формуле `0.9 / (1.0 + i)`, где `i` - номер итерации (от 0 до 49). Используйте качество работы алгоритма как **ответ в пункте 3**. \n",
    "\n",
    "В реальности часто применяется следующая стратегия выбора шага: как только выбран алгоритм, подберем коэффициент перед ним численным методом оптимизации таким образом, чтобы отклонение от правильных ответов было минимальным. Мы не будем предлагать вам реализовать это для выполнения задания, но рекомендуем попробовать разобраться с такой стратегией и реализовать ее при случае для себя."
   ]
  },
  {
   "cell_type": "code",
   "execution_count": 26,
   "metadata": {
    "tags": []
   },
   "outputs": [
    {
     "name": "stdout",
     "output_type": "stream",
     "text": [
      "1 - Train RMSE: 3.2707316464673495\n",
      "2 - Train RMSE: 2.5678888013711574\n",
      "3 - Train RMSE: 2.2280859250705074\n",
      "4 - Train RMSE: 2.0109966085848017\n",
      "5 - Train RMSE: 1.8576409180491857\n",
      "6 - Train RMSE: 1.7517083148683799\n",
      "7 - Train RMSE: 1.6642832028273573\n",
      "8 - Train RMSE: 1.60004743263033\n",
      "9 - Train RMSE: 1.5536548944868813\n",
      "10 - Train RMSE: 1.5097518416817006\n",
      "11 - Train RMSE: 1.470851357431395\n",
      "12 - Train RMSE: 1.4325676377452161\n",
      "13 - Train RMSE: 1.4051344548833191\n",
      "14 - Train RMSE: 1.3770188528589085\n",
      "15 - Train RMSE: 1.3498965765490998\n",
      "16 - Train RMSE: 1.334391770538966\n",
      "17 - Train RMSE: 1.3189264546255155\n",
      "18 - Train RMSE: 1.302364363843851\n",
      "19 - Train RMSE: 1.2866933623023162\n",
      "20 - Train RMSE: 1.2725204527941951\n",
      "21 - Train RMSE: 1.2583322900676919\n",
      "22 - Train RMSE: 1.2481915858377308\n",
      "23 - Train RMSE: 1.2384454794464157\n",
      "24 - Train RMSE: 1.2243271880100977\n",
      "25 - Train RMSE: 1.2145558738774656\n",
      "26 - Train RMSE: 1.2069003646843437\n",
      "27 - Train RMSE: 1.1953465926738798\n",
      "28 - Train RMSE: 1.189002020559287\n",
      "29 - Train RMSE: 1.1790509394241888\n",
      "30 - Train RMSE: 1.1719678061968362\n",
      "31 - Train RMSE: 1.1621190730461926\n",
      "32 - Train RMSE: 1.1553746657874513\n",
      "33 - Train RMSE: 1.1491404423936549\n",
      "34 - Train RMSE: 1.1406880329395352\n",
      "35 - Train RMSE: 1.1342885039638575\n",
      "36 - Train RMSE: 1.1281327791456681\n",
      "37 - Train RMSE: 1.1223860342753593\n",
      "38 - Train RMSE: 1.1188172371240992\n",
      "39 - Train RMSE: 1.1136734784087714\n",
      "40 - Train RMSE: 1.108830525597538\n",
      "41 - Train RMSE: 1.104583913606709\n",
      "42 - Train RMSE: 1.0986601843066337\n",
      "43 - Train RMSE: 1.0958206560242179\n",
      "44 - Train RMSE: 1.0910046541240208\n",
      "45 - Train RMSE: 1.0863029790192713\n",
      "46 - Train RMSE: 1.081954249088246\n",
      "47 - Train RMSE: 1.0773817921328697\n",
      "48 - Train RMSE: 1.0731812315683766\n",
      "49 - Train RMSE: 1.0696164583477032\n"
     ]
    }
   ],
   "source": [
    "n_estimators = 50\n",
    "base_algo_list = [DecisionTreeRegressor(max_depth=5, random_state=42)]\n",
    "coeff_list = [0.9]\n",
    "\n",
    "y_train_iter = y_train.copy()\n",
    "base_algo_list[0].fit(X_train, y_train_iter)\n",
    "y_pred_iter = base_algo_list[0].predict(X_train)\n",
    "\n",
    "for i in range(1, n_estimators):\n",
    "    y_train_iter = y_train - y_pred_iter\n",
    "    \n",
    "    base_algo_list.append(DecisionTreeRegressor(max_depth=5, random_state=42).fit(X_train, y_train_iter))\n",
    "    coeff_list.append(0.9 / (1 + i))\n",
    "    \n",
    "    y_pred_iter =  np.array(gbm_predict(X_train, base_algo_list, coeff_list))\n",
    "    print(f\"{i} - Train RMSE: {np.sqrt(mean_squared_error(y_train, y_pred_iter))}\")"
   ]
  },
  {
   "cell_type": "code",
   "execution_count": 28,
   "metadata": {},
   "outputs": [],
   "source": [
    "error2 = mean_squared_error(gbm_predict(X_test, base_algo_list, coeff_list), y_test)\n",
    "\n",
    "with open('ans3.txt', 'w') as f:\n",
    "    f.write(str(np.sqrt(error1)))"
   ]
  },
  {
   "cell_type": "markdown",
   "metadata": {},
   "source": [
    "## Задание 4\n",
    "\n",
    "Реализованный вами метод - градиентный бустинг над деревьями - очень популярен в машинном обучении. Он представлен как в самой библиотеке `sklearn`, так и в сторонней библиотеке `XGBoost`, которая имеет свой питоновский интерфейс. На практике `XGBoost` работает заметно лучше `GradientBoostingRegressor` из `sklearn`, но для этого задания вы можете использовать любую реализацию. \n",
    "\n",
    "Исследуйте, переобучается ли градиентный бустинг с ростом числа итераций (и подумайте, почему), а также с ростом глубины деревьев. На основе наблюдений выпишите через пробел номера правильных из приведенных ниже утверждений в порядке возрастания номера (это будет **ответ в п.4**):\n",
    "\n",
    "    1. С увеличением числа деревьев, начиная с некоторого момента, качество работы градиентного бустинга не меняется существенно.\n",
    "\n",
    "    2. С увеличением числа деревьев, начиная с некоторого момента, градиентный бустинг начинает переобучаться.\n",
    "\n",
    "    3. С ростом глубины деревьев, начиная с некоторого момента, качество работы градиентного бустинга на тестовой выборке начинает ухудшаться.\n",
    "\n",
    "    4. С ростом глубины деревьев, начиная с некоторого момента, качество работы градиентного бустинга перестает существенно изменяться"
   ]
  },
  {
   "cell_type": "code",
   "execution_count": 31,
   "metadata": {},
   "outputs": [],
   "source": [
    "from tqdm import tqdm"
   ]
  },
  {
   "cell_type": "code",
   "execution_count": 38,
   "metadata": {
    "tags": []
   },
   "outputs": [
    {
     "name": "stderr",
     "output_type": "stream",
     "text": [
      "100%|████████████████████████████████████████████████████████████████████████████████████| 7/7 [03:28<00:00, 29.84s/it]\n"
     ]
    }
   ],
   "source": [
    "n_estimators_list = np.arange(5, 75, 10)\n",
    "\n",
    "\n",
    "test_scores_estimators = []\n",
    "train_scores_estimators = []\n",
    "\n",
    "for n_estimators in tqdm(n_estimators_list):\n",
    "    base_algo_list = [DecisionTreeRegressor(max_depth=5, random_state=42)]\n",
    "    coeff_list = [0.9]\n",
    "\n",
    "    y_train_iter = y_train.copy()\n",
    "    base_algo_list[0].fit(X_train, y_train_iter)\n",
    "    y_pred_iter = base_algo_list[0].predict(X_train)\n",
    "\n",
    "    for i in range(1, n_estimators):\n",
    "        y_train_iter = y_train - y_pred_iter\n",
    "\n",
    "        base_algo_list.append(DecisionTreeRegressor(max_depth=5, random_state=42).fit(X_train, y_train_iter))\n",
    "        coeff_list.append(0.9 / (1 + i))\n",
    "\n",
    "        y_pred_iter =  np.array(gbm_predict(X_train, base_algo_list, coeff_list))\n",
    "        #print(f\"{i} - Train RMSE: {np.sqrt(mean_squared_error(y_train, y_pred_iter))}\")\n",
    "        \n",
    "    train_error = np.sqrt(mean_squared_error(gbm_predict(X_train, base_algo_list, coeff_list), y_train)) \n",
    "    train_scores_estimators.append(train_error)\n",
    "    test_error = np.sqrt(mean_squared_error(gbm_predict(X_test, base_algo_list, coeff_list), y_test))\n",
    "    test_scores_estimators.append(test_error)"
   ]
  },
  {
   "cell_type": "code",
   "execution_count": 39,
   "metadata": {},
   "outputs": [
    {
     "data": {
      "text/plain": [
       "<matplotlib.legend.Legend at 0x2307b0aea30>"
      ]
     },
     "execution_count": 39,
     "metadata": {},
     "output_type": "execute_result"
    },
    {
     "data": {
      "image/png": "[encoded data removed]",
      "text/plain": [
       "<Figure size 432x288 with 1 Axes>"
      ]
     },
     "metadata": {
      "needs_background": "light"
     },
     "output_type": "display_data"
    }
   ],
   "source": [
    "plt.plot(n_estimators_list, train_scores_estimators, label='train')\n",
    "plt.plot(n_estimators_list, test_scores_estimators, label='test')\n",
    "plt.legend()"
   ]
  },
  {
   "cell_type": "code",
   "execution_count": 40,
   "metadata": {},
   "outputs": [
    {
     "name": "stderr",
     "output_type": "stream",
     "text": [
      "100%|████████████████████████████████████████████████████████████████████████████████████| 9/9 [02:46<00:00, 18.51s/it]\n"
     ]
    }
   ],
   "source": [
    "n_estimators = 30\n",
    "max_depth_list = np.arange(1, 10)\n",
    "\n",
    "test_scores_depth = []\n",
    "train_scores_depth = []\n",
    "\n",
    "for max_depth in tqdm(max_depth_list):\n",
    "    \n",
    "    base_algo_list = [DecisionTreeRegressor(max_depth=5, random_state=42)]\n",
    "    coeff_list = [0.9]\n",
    "\n",
    "    y_train_iter = y_train.copy()\n",
    "    base_algo_list[0].fit(X_train, y_train_iter)\n",
    "    y_pred_iter = base_algo_list[0].predict(X_train)\n",
    "\n",
    "    for i in range(1, n_estimators):\n",
    "        y_train_iter = y_train - y_pred_iter\n",
    "\n",
    "        base_algo_list.append(DecisionTreeRegressor(max_depth=max_depth, random_state=42).fit(X_train, y_train_iter))\n",
    "        coeff_list.append(0.9 / (1 + i))\n",
    "\n",
    "        y_pred_iter =  np.array(gbm_predict(X_train, base_algo_list, coeff_list))\n",
    "        #print(f\"{i} - Train RMSE: {np.sqrt(mean_squared_error(y_train, y_pred_iter))}\")\n",
    "        \n",
    "    train_error = np.sqrt(mean_squared_error(gbm_predict(X_train, base_algo_list, coeff_list), y_train)) \n",
    "    train_scores_depth.append(train_error)\n",
    "    test_error = np.sqrt(mean_squared_error(gbm_predict(X_test, base_algo_list, coeff_list), y_test))\n",
    "    test_scores_depth.append(test_error)"
   ]
  },
  {
   "cell_type": "code",
   "execution_count": 42,
   "metadata": {},
   "outputs": [
    {
     "data": {
      "text/plain": [
       "<matplotlib.legend.Legend at 0x2307b134b20>"
      ]
     },
     "execution_count": 42,
     "metadata": {},
     "output_type": "execute_result"
    },
    {
     "data": {
      "image/png": "[encoded data removed]",
      "text/plain": [
       "<Figure size 432x288 with 1 Axes>"
      ]
     },
     "metadata": {
      "needs_background": "light"
     },
     "output_type": "display_data"
    }
   ],
   "source": [
    "plt.plot(max_depth_list, train_scores_depth, label='train')\n",
    "plt.plot(max_depth_list, test_scores_depth, label='test')\n",
    "plt.legend()"
   ]
  },
  {
   "cell_type": "code",
   "execution_count": 47,
   "metadata": {},
   "outputs": [],
   "source": [
    "ans4 = '2 3'\n",
    "\n",
    "with open('ans4.txt', 'w') as f:\n",
    "    f.write(ans4)"
   ]
  },
  {
   "cell_type": "markdown",
   "metadata": {},
   "source": [
    "## Задание 5\n",
    "\n",
    "Сравните получаемое с помощью градиентного бустинга качество с качеством работы линейной регрессии. \n",
    "\n",
    "Для этого обучите `LinearRegression` из `sklearn.linear_model` (с параметрами по умолчанию) на обучающей выборке и оцените для прогнозов полученного алгоритма на тестовой выборке `RMSE`. Полученное качество - ответ в **пункте 5**. \n",
    "\n",
    "В данном примере качество работы простой модели должно было оказаться хуже, но не стоит забывать, что так бывает не всегда. В заданиях к этому курсу вы еще встретите пример обратной ситуации."
   ]
  },
  {
   "cell_type": "code",
   "execution_count": 50,
   "metadata": {
    "tags": []
   },
   "outputs": [
    {
     "data": {
      "text/plain": [
       "5.457311159564055"
      ]
     },
     "execution_count": 50,
     "metadata": {},
     "output_type": "execute_result"
    }
   ],
   "source": [
    "from sklearn.linear_model import LinearRegression\n",
    "\n",
    "reg = LinearRegression().fit(X_train, y_train)\n",
    "\n",
    "ans5 = np.sqrt(mean_squared_error(reg.predict(X_test), y_test))\n",
    "\n",
    "ans5"
   ]
  },
  {
   "cell_type": "code",
   "execution_count": 51,
   "metadata": {},
   "outputs": [],
   "source": [
    "with open('ans5.txt', 'w') as f:\n",
    "    f.write(str(ans5))"
   ]
  },
  {
   "cell_type": "code",
   "execution_count": null,
   "metadata": {},
   "outputs": [],
   "source": []
  }
 ],
 "metadata": {
  "kernelspec": {
   "display_name": "Python 3 (ipykernel)",
   "language": "python",
   "name": "python3"
  },
  "language_info": {
   "codemirror_mode": {
    "name": "ipython",
    "version": 3
   },
   "file_extension": ".py",
   "mimetype": "text/x-python",
   "name": "python",
   "nbconvert_exporter": "python",
   "pygments_lexer": "ipython3",
   "version": "3.8.11"
  }
 },
 "nbformat": 4,
 "nbformat_minor": 4
}
