{
 "cells": [
  {
   "cell_type": "code",
   "execution_count": 21,
   "id": "f0229094-15a8-4c6b-a095-557d11b59c26",
   "metadata": {},
   "outputs": [],
   "source": [
    "import numpy as np\n",
    "import pandas as pd\n",
    "from sklearn.datasets import load_digits\n",
    "from sklearn.model_selection import cross_val_score\n",
    "import matplotlib.pyplot as plt"
   ]
  },
  {
   "cell_type": "markdown",
   "id": "cf544409-a304-4964-b0ee-66a92d8a611c",
   "metadata": {},
   "source": [
    "Загрузите датасет digits с помощью функции load_digits из sklearn.datasets и подготовьте матрицу признаков X и ответы на обучающей выборке y (вам потребуются поля data и target в объекте, который возвращает load_digits). \n",
    "\n",
    "Для оценки качества далее нужно будет использовать cross_val_score из sklearn.model_selection с параметром cv=10. Эта функция реализует k-fold cross validation c k равным значению параметра cv. Мы предлагаем использовать k=10, чтобы полученные оценки качества имели небольшой разброс, и было проще проверить полученные ответы. На практике же часто хватает и k=5. Функция cross_val_score будет возвращать numpy.ndarray, в котором будет k чисел - качество в каждом из k экспериментов k-fold cross validation. Для получения среднего значения (которое и будет оценкой качества работы) вызовите метод .mean() у массива, который возвращает cross_val_score.\n",
    "\n",
    "С небольшой вероятностью вы можете натолкнуться на случай, когда полученное вами качество в каком-то из пунктов не попадет в диапазон, заданный для правильных ответов - в этом случае попробуйте перезапустить ячейку с cross_val_score несколько раз и выбрать наиболее «типичное» значение. Если это не помогает, то где-то была допущена ошибка.\n",
    "\n",
    "Если вам захочется ускорить вычисление cross_val_score - можете попробовать использовать параметр n_jobs, но будьте осторожны: в одной из старых версий sklearn была ошибка, которая приводила к неверному результату работы cross_val_score при задании n_jobs отличным от 1. Сейчас такой проблемы возникнуть не должно, но проверить, что все в порядке, не будет лишним."
   ]
  },
  {
   "cell_type": "code",
   "execution_count": 4,
   "id": "d51ac995-54aa-4c9f-bfda-6538e9b21d4c",
   "metadata": {},
   "outputs": [
    {
     "data": {
      "text/plain": [
       "(1797, 64)"
      ]
     },
     "execution_count": 4,
     "metadata": {},
     "output_type": "execute_result"
    }
   ],
   "source": [
    "X, y = load_digits(return_X_y=True)\n",
    "\n",
    "X.shape"
   ]
  },
  {
   "cell_type": "code",
   "execution_count": 5,
   "id": "62aa8370-c2c5-4c36-ac8f-f89b66f0db37",
   "metadata": {},
   "outputs": [
    {
     "data": {
      "text/plain": [
       "(1797,)"
      ]
     },
     "execution_count": 5,
     "metadata": {},
     "output_type": "execute_result"
    }
   ],
   "source": [
    "y.shape"
   ]
  },
  {
   "cell_type": "markdown",
   "id": "b0a96a34-8f9d-4751-8855-4c93b55e2bc6",
   "metadata": {},
   "source": [
    "1.\n",
    "\n",
    "Создайте DecisionTreeClassifier с настройками по умолчанию и измерьте качество его работы с помощью cross_val_score. Эта величина и будет ответом в пункте 1."
   ]
  },
  {
   "cell_type": "code",
   "execution_count": 40,
   "id": "4af60418-b5a6-43e7-a3f5-016499d48070",
   "metadata": {},
   "outputs": [],
   "source": [
    "from sklearn.tree import DecisionTreeClassifier\n",
    "\n",
    "clf = DecisionTreeClassifier()\n",
    "\n",
    "scores = cross_val_score(clf, X, y, cv=10)\n",
    "scores.mean()\n",
    "\n",
    "with open('ans1.txt', 'w') as f:\n",
    "    f.write(str(scores.mean()))"
   ]
  },
  {
   "cell_type": "markdown",
   "id": "a988046d-a995-4019-8a71-370ef0f12650",
   "metadata": {},
   "source": [
    "2.\n",
    "\n",
    "Воспользуйтесь BaggingClassifier из sklearn.ensemble, чтобы обучить бэггинг над DecisionTreeClassifier. Используйте в BaggingClassifier параметры по умолчанию, задав только количество деревьев равным 100. \n",
    "\n",
    "Качество классификации новой модели - ответ в пункте 2. Обратите внимание, как соотносится качество работы композиции решающих деревьев с качеством работы одного решающего дерева."
   ]
  },
  {
   "cell_type": "code",
   "execution_count": 41,
   "id": "94cd4dc2-9de0-4d3b-ae22-e5daaca03c57",
   "metadata": {},
   "outputs": [],
   "source": [
    "from sklearn.ensemble import BaggingClassifier\n",
    "\n",
    "clf = BaggingClassifier(n_estimators=100)\n",
    "\n",
    "scores = cross_val_score(clf, X, y, cv=10)\n",
    "scores.mean()\n",
    "\n",
    "with open('ans2.txt', 'w') as f:\n",
    "    f.write(str(scores.mean()))"
   ]
  },
  {
   "cell_type": "markdown",
   "id": "717ccdb4-3ba3-4682-9a2c-f721bb6e20a8",
   "metadata": {},
   "source": [
    "3.\n",
    "\n",
    "Теперь изучите параметры BaggingClassifier и выберите их такими, чтобы каждый базовый алгоритм обучался не на всех d признаках, а на $\\sqrt{d} $ случайных признаков. Качество работы получившегося классификатора - ответ в пункте 3. Корень из числа признаков - часто используемая эвристика в задачах классификации, в задачах регрессии же часто берут число признаков, деленное на три. Но в общем случае ничто не мешает вам выбирать любое другое число случайных признаков.\n",
    "\n"
   ]
  },
  {
   "cell_type": "code",
   "execution_count": 42,
   "id": "28ecbaa4-4adc-4a0d-a295-22a9d238cf1f",
   "metadata": {},
   "outputs": [],
   "source": [
    "clf = BaggingClassifier(n_estimators=100, max_features=int(np.sqrt(X.shape[1])))\n",
    "\n",
    "scores = cross_val_score(clf, X, y, cv=10)\n",
    "scores.mean()\n",
    "\n",
    "with open('ans3.txt', 'w') as f:\n",
    "    f.write(str(scores.mean()))"
   ]
  },
  {
   "cell_type": "markdown",
   "id": "80040ac8-4dc5-46fb-9343-af6fbeae8444",
   "metadata": {},
   "source": [
    "4.\n",
    "\n",
    "Наконец, давайте попробуем выбирать случайные признаки не один раз на все дерево, а при построении каждой вершины дерева. Сделать это несложно: нужно убрать выбор случайного подмножества признаков в BaggingClassifier и добавить его в DecisionTreeClassifier. Какой параметр за это отвечает, можно понять из документации sklearn, либо просто попробовать угадать (скорее всего, у вас сразу получится). Попробуйте выбирать опять же $\\sqrt{d} $ признаков. Качество полученного классификатора на контрольной выборке и будет ответом в пункте 4."
   ]
  },
  {
   "cell_type": "code",
   "execution_count": 43,
   "id": "3d779e5e-c6a1-4edc-9424-b03dfe4a3f16",
   "metadata": {},
   "outputs": [],
   "source": [
    "base_estimator = DecisionTreeClassifier(max_features='sqrt')\n",
    "\n",
    "clf = BaggingClassifier(base_estimator, n_estimators=100)\n",
    "\n",
    "scores = cross_val_score(clf, X, y, cv=10)\n",
    "scores.mean()\n",
    "\n",
    "with open('ans4.txt', 'w') as f:\n",
    "    f.write(str(scores.mean()))"
   ]
  },
  {
   "cell_type": "markdown",
   "id": "de2cbfb8-ce86-409f-beaa-2f5aeed2c40b",
   "metadata": {},
   "source": [
    "5.\n",
    "\n",
    "Полученный в пункте 4 классификатор - бэггинг на рандомизированных деревьях (в которых при построении каждой вершины выбирается случайное подмножество признаков и разбиение ищется только по ним). Это в точности соответствует алгоритму Random Forest, поэтому почему бы не сравнить качество работы классификатора с RandomForestClassifier из sklearn.ensemble. Сделайте это, а затем изучите, как качество классификации на данном датасете зависит от количества деревьев, количества признаков, выбираемых при построении каждой вершины дерева, а также ограничений на глубину дерева. Для наглядности лучше построить графики зависимости качества от значений параметров, но для сдачи задания это делать не обязательно. "
   ]
  },
  {
   "cell_type": "code",
   "execution_count": 14,
   "id": "ec04cfe8-0fc1-48c1-851d-9f2ec950f529",
   "metadata": {},
   "outputs": [
    {
     "data": {
      "text/plain": [
       "0.9482371198013656"
      ]
     },
     "execution_count": 14,
     "metadata": {},
     "output_type": "execute_result"
    }
   ],
   "source": [
    "from sklearn.ensemble import RandomForestClassifier\n",
    "\n",
    "clf = RandomForestClassifier(n_estimators=100)\n",
    "\n",
    "scores = cross_val_score(clf, X, y, cv=10)\n",
    "scores.mean()"
   ]
  },
  {
   "cell_type": "code",
   "execution_count": 28,
   "id": "e8a1c45b-d785-4a9e-a1ce-19ec6824f3d8",
   "metadata": {},
   "outputs": [],
   "source": [
    "from sklearn.model_selection import learning_curve, GridSearchCV"
   ]
  },
  {
   "cell_type": "code",
   "execution_count": 18,
   "id": "bd0b10a5-b498-44cd-8c75-6650d54b25e8",
   "metadata": {},
   "outputs": [],
   "source": [
    "train_sizes_abs, train_scores, test_scores = learning_curve(clf, X, y, cv=5)"
   ]
  },
  {
   "cell_type": "code",
   "execution_count": 19,
   "id": "b8090db0-063f-46a5-b996-f71c034cb74c",
   "metadata": {},
   "outputs": [
    {
     "data": {
      "text/plain": [
       "array([ 143,  467,  790, 1113, 1437])"
      ]
     },
     "execution_count": 19,
     "metadata": {},
     "output_type": "execute_result"
    }
   ],
   "source": [
    "train_sizes_abs"
   ]
  },
  {
   "cell_type": "code",
   "execution_count": 27,
   "id": "5029d04e-44fc-439b-a6a4-e5499188c7ef",
   "metadata": {},
   "outputs": [
    {
     "data": {
      "image/png": "[encoded data removed]",
      "text/plain": [
       "<Figure size 432x288 with 1 Axes>"
      ]
     },
     "metadata": {
      "needs_background": "light"
     },
     "output_type": "display_data"
    }
   ],
   "source": [
    "plt.plot(train_sizes_abs/X.shape[0], train_scores.mean(axis=1), label='train_scores')\n",
    "plt.plot(train_sizes_abs/X.shape[0], test_scores.mean(axis=1), label='test_scores')\n",
    "plt.legend()\n",
    "plt.show()"
   ]
  },
  {
   "cell_type": "code",
   "execution_count": 30,
   "id": "4e5909c4-0260-40bd-9853-ebb78efa7244",
   "metadata": {},
   "outputs": [
    {
     "data": {
      "text/plain": [
       "[<matplotlib.lines.Line2D at 0x1dcd0efdb80>]"
      ]
     },
     "execution_count": 30,
     "metadata": {},
     "output_type": "execute_result"
    },
    {
     "data": {
      "image/png": "[encoded data removed]",
      "text/plain": [
       "<Figure size 432x288 with 1 Axes>"
      ]
     },
     "metadata": {
      "needs_background": "light"
     },
     "output_type": "display_data"
    }
   ],
   "source": [
    "clf = RandomForestClassifier()\n",
    "\n",
    "params = {\"n_estimators\": np.arange(25, 500, 25), \n",
    "          \"max_depth\": np.arange(1, 10), \n",
    "          \"max_features\": np.arange(1, 10) / 10}\n",
    "\n",
    "scores_list = []\n",
    "for n_estimators in params['n_estimators']:\n",
    "    clf = RandomForestClassifier(n_estimators=n_estimators)\n",
    "    scores = cross_val_score(clf, X, y, cv=5)\n",
    "    scores_list.append(scores.mean())\n",
    "    \n",
    "    \n",
    "plt.plot(params['n_estimators'], scores_list)"
   ]
  },
  {
   "cell_type": "code",
   "execution_count": 33,
   "id": "2bd9aca5-c9c1-492f-9e98-b76fb1f5ff78",
   "metadata": {},
   "outputs": [
    {
     "data": {
      "text/plain": [
       "64"
      ]
     },
     "execution_count": 33,
     "metadata": {},
     "output_type": "execute_result"
    }
   ],
   "source": [
    "X.shape[1]"
   ]
  },
  {
   "cell_type": "code",
   "execution_count": 34,
   "id": "0a300db9-e4af-4310-b05a-5b0a44eb65cb",
   "metadata": {},
   "outputs": [
    {
     "data": {
      "text/plain": [
       "[<matplotlib.lines.Line2D at 0x1dcd1e088b0>]"
      ]
     },
     "execution_count": 34,
     "metadata": {},
     "output_type": "execute_result"
    },
    {
     "data": {
      "image/png": "[encoded data removed]",
      "text/plain": [
       "<Figure size 432x288 with 1 Axes>"
      ]
     },
     "metadata": {
      "needs_background": "light"
     },
     "output_type": "display_data"
    }
   ],
   "source": [
    "n_features = X.shape[1]\n",
    "scores_list = []\n",
    "max_features_list = [5, 10, 20, 30, 40, 50, 60]\n",
    "for max_features in max_features_list:\n",
    "    clf = RandomForestClassifier(max_features=max_features)\n",
    "    scores = cross_val_score(clf, X, y, cv=3)\n",
    "    scores_list.append(scores.mean())\n",
    "    \n",
    "plt.plot(max_features_list, scores_list)"
   ]
  },
  {
   "cell_type": "code",
   "execution_count": 37,
   "id": "51bd5a64-136a-4b8a-92c0-aa319ed7f514",
   "metadata": {},
   "outputs": [],
   "source": [
    "scores_list = []\n",
    "max_depth_list = list(np.arange(1, 10)) + [None]\n",
    "for max_depth in max_depth_list:\n",
    "    clf = RandomForestClassifier(max_depth=max_depth)\n",
    "    scores = cross_val_score(clf, X, y, cv=3)\n",
    "    scores_list.append(scores.mean())"
   ]
  },
  {
   "cell_type": "code",
   "execution_count": 38,
   "id": "62a427c2-0ef2-41d4-911e-c7dd895761c2",
   "metadata": {},
   "outputs": [
    {
     "data": {
      "text/plain": [
       "[0.6828046744574291,\n",
       " 0.7974401780745687,\n",
       " 0.8464106844741236,\n",
       " 0.8814691151919867,\n",
       " 0.9070673344462993,\n",
       " 0.9170840289371175,\n",
       " 0.9309961046188091,\n",
       " 0.9315525876460767,\n",
       " 0.9365609348914857,\n",
       " 0.9398998330550917]"
      ]
     },
     "execution_count": 38,
     "metadata": {},
     "output_type": "execute_result"
    }
   ],
   "source": [
    "scores_list"
   ]
  },
  {
   "cell_type": "markdown",
   "id": "6f20e6d6-4c5c-46d2-9716-8e45458ad29f",
   "metadata": {},
   "source": [
    "На основе наблюдений выпишите через пробел номера правильных утверждений из приведенных ниже в порядке возрастания номера (это будет ответ в п.5)\n",
    "\n",
    "1) Случайный лес сильно переобучается с ростом количества деревьев\n",
    "\n",
    "2) При очень маленьком числе деревьев (5, 10, 15), случайный лес работает хуже, чем при большем числе деревьев\n",
    "\n",
    "3) С ростом количества деревьев в случайном лесе, в какой-то момент деревьев становится достаточно для высокого качества классификации, а затем качество существенно не меняется.\n",
    "\n",
    "4) При большом количестве признаков (для данного датасета - 40, 50) качество классификации становится хуже, чем при малом количестве признаков (5, 10). Это связано с тем, что чем меньше признаков выбирается в каждом узле, тем более различными получаются деревья (ведь деревья сильно неустойчивы к изменениям в обучающей выборке), и тем лучше работает их композиция.\n",
    "\n",
    "5) При большом количестве признаков (40, 50, 60) качество классификации лучше, чем при малом количестве признаков (5, 10). Это связано с тем, что чем больше признаков - тем больше информации об объектах, а значит алгоритм может делать прогнозы более точно.\n",
    "\n",
    "6) При небольшой максимальной глубине деревьев (5-6) качество работы случайного леса намного лучше, чем без ограничения глубины, т.к. деревья получаются не переобученными. С ростом глубины деревьев качество ухудшается.\n",
    "\n",
    "7) При небольшой максимальной глубине деревьев (5-6) качество работы случайного леса заметно хуже, чем без ограничений, т.к. деревья получаются недообученными. С ростом глубины качество сначала улучшается, а затем не меняется существенно, т.к. из-за усреднения прогнозов и различий деревьев их переобученность в бэггинге не сказывается на итоговом качестве (все деревья преобучены по-разному, и при усреднении они компенсируют переобученность друг-друга)."
   ]
  },
  {
   "cell_type": "code",
   "execution_count": 44,
   "id": "e13f1f86-8e0f-4587-8c24-01cf2cabce7f",
   "metadata": {},
   "outputs": [],
   "source": [
    "ans5 = \"2 3 4 7\"\n",
    "\n",
    "with open('ans5.txt', 'w') as f:\n",
    "    f.write(ans5)"
   ]
  },
  {
   "cell_type": "code",
   "execution_count": null,
   "id": "603c4900-defc-4ba5-933d-6f17c07a547f",
   "metadata": {},
   "outputs": [],
   "source": []
  }
 ],
 "metadata": {
  "kernelspec": {
   "display_name": "Python 3 (ipykernel)",
   "language": "python",
   "name": "python3"
  },
  "language_info": {
   "codemirror_mode": {
    "name": "ipython",
    "version": 3
   },
   "file_extension": ".py",
   "mimetype": "text/x-python",
   "name": "python",
   "nbconvert_exporter": "python",
   "pygments_lexer": "ipython3",
   "version": "3.8.12"
  }
 },
 "nbformat": 4,
 "nbformat_minor": 5
}
