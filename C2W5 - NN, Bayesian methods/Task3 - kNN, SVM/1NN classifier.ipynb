{
 "cells": [
  {
   "cell_type": "code",
   "execution_count": 4,
   "id": "2128e383-6c27-4a50-8ed3-ed2e58d7e51c",
   "metadata": {},
   "outputs": [],
   "source": [
    "import numpy as np\n",
    "import pandas as pd\n",
    "import matplotlib.pyplot as plt\n",
    "from sklearn.svm import SVC\n",
    "from sklearn.metrics import accuracy_score\n",
    "from sklearn.datasets import load_digits\n",
    "from sklearn.model_selection import train_test_split"
   ]
  },
  {
   "cell_type": "markdown",
   "id": "720c2cd1-1c7f-472f-8666-5e5648d4804a",
   "metadata": {},
   "source": [
    "## Задание 1\n",
    "\n",
    "Реализуйте самостоятельно метод одного ближайшего соседа с евклидовой метрикой для задачи классификации. Можно не извлекать корень из суммы квадратов отклонений, т.к. корень — монотонное преобразование и не влияет на результат работы алгоритма.\n",
    "\n",
    "Никакой дополнительной работы с признаками в этом задании делать не нужно — мы еще успеем этим заняться в других курсах. Ваша реализация может быть устроена следующим образом: можно для каждого классифицируемого объекта составлять список пар (расстояние до точки из обучающей выборки, метка класса в этой точке), затем сортировать этот список (по умолчанию сортировка будет сначала по первому элементу пары, затем по второму), а затем брать первый элемент (с наименьшим расстоянием).\n",
    "\n",
    "Сортировка массива длиной N требует порядка N log N сравнений (строже говоря, она работает за O(N log N)). Подумайте, как можно легко улучшить получившееся время работы. Кроме простого способа найти ближайший объект всего за N сравнений, можно попробовать придумать, как разбить пространство признаков на части и сделать структуру данных, которая позволит быстро искать соседей каждой точки. За выбор метода поиска ближайших соседей в KNeighborsClassifier из sklearn отвечает параметр algorithm — если у вас уже есть некоторый бэкграунд в алгоритмах и структурах данных, вам может быть интересно познакомиться со структурами данных ball tree и kd tree.\n",
    "\n",
    "**Доля ошибок, допускаемых 1NN на тестовой выборке, — ответ в задании 1.**"
   ]
  },
  {
   "cell_type": "code",
   "execution_count": 8,
   "id": "6b355a93-8c78-47f0-bbde-9f022e42e427",
   "metadata": {},
   "outputs": [],
   "source": [
    "X, y = load_digits(return_X_y=True)\n",
    "\n",
    "X_train, X_test, y_train, y_test = train_test_split(X, y, test_size=0.25, shuffle=False)"
   ]
  },
  {
   "cell_type": "code",
   "execution_count": 16,
   "id": "7142e7e9-5615-41f6-b814-e9a3e0421de3",
   "metadata": {},
   "outputs": [],
   "source": [
    "\n",
    "\n",
    "def calculate_distances(X_test, X_train):\n",
    "    \"\"\"\n",
    "    Calculates Eukledian distances between test sample and all train samples\n",
    "    Returns matrix of shape (n_test, n_train)\n",
    "    \n",
    "    \"\"\"\n",
    "    n_test, n_train = X_test.shape[0], X_train.shape[0]\n",
    "    Dist = np.zeros((n_test, n_train))\n",
    "    for i in range(n_test):\n",
    "        for j in range(n_train):\n",
    "                Dist[i, j] = np.sum((X_test[i] - X_train[j]) ** 2)        \n",
    "    return Dist"
   ]
  },
  {
   "cell_type": "code",
   "execution_count": 21,
   "id": "c0fdb68e-c777-4bc3-8f0a-1e550de2ff88",
   "metadata": {},
   "outputs": [],
   "source": [
    "distances = calculate_distances(X_test, X_train)"
   ]
  },
  {
   "cell_type": "code",
   "execution_count": 22,
   "id": "2294a950-f5c8-4112-b43f-ab0771ff4af5",
   "metadata": {},
   "outputs": [],
   "source": [
    "min_indices = distances.argmin(axis=-1)"
   ]
  },
  {
   "cell_type": "code",
   "execution_count": 27,
   "id": "9006bd7b-8469-4565-99dd-b7b13b980ce3",
   "metadata": {},
   "outputs": [],
   "source": [
    "y_pred = y_train[min_indices]"
   ]
  },
  {
   "cell_type": "code",
   "execution_count": 34,
   "id": "18ad7d5b-1c08-41bf-b23c-9a5d713e3964",
   "metadata": {},
   "outputs": [
    {
     "data": {
      "text/plain": [
       "0.0377777777777778"
      ]
     },
     "execution_count": 34,
     "metadata": {},
     "output_type": "execute_result"
    }
   ],
   "source": [
    "mistakes = 1 - np.sum(y_pred == y_test) / len(y_pred)\n",
    "mistakes"
   ]
  },
  {
   "cell_type": "code",
   "execution_count": 35,
   "id": "f6cf821c-e32c-4e56-9e93-6e0117961665",
   "metadata": {},
   "outputs": [],
   "source": [
    "with open('ans.txt', 'w') as f:\n",
    "    f.write(str(mistakes))"
   ]
  },
  {
   "cell_type": "markdown",
   "id": "d54dd8a9-98f5-44c3-b179-7a12b6e325d8",
   "metadata": {},
   "source": [
    "## Задание 2\n",
    "\n",
    "Теперь обучите на обучающей выборке RandomForestClassifier(n_estimators=1000) из sklearn. Сделайте прогнозы на тестовой выборке и оцените долю ошибок классификации на ней. Эта доля — ответ в задании 2. Обратите внимание на то, как соотносится качество работы случайного леса с качеством работы, пожалуй, одного из самых простых методов — 1NN. Такое различие — особенность данного датасета, но нужно всегда помнить, что такая ситуация тоже может иметь место, и не забывать про простые методы."
   ]
  },
  {
   "cell_type": "code",
   "execution_count": 40,
   "id": "21c31575-372e-4f69-9bc7-c810645c2ec9",
   "metadata": {},
   "outputs": [],
   "source": [
    "from sklearn.ensemble import RandomForestClassifier"
   ]
  },
  {
   "cell_type": "code",
   "execution_count": 41,
   "id": "1887daa8-8fca-43f6-b240-5a6fa9b20cc6",
   "metadata": {},
   "outputs": [],
   "source": [
    "clf = RandomForestClassifier(n_estimators=1000)\n",
    "\n",
    "y_pred = clf.fit(X_train, y_train).predict(X_test)"
   ]
  },
  {
   "cell_type": "code",
   "execution_count": 43,
   "id": "d00ba43f-4753-4f3f-a5de-d78b55cda6ae",
   "metadata": {},
   "outputs": [
    {
     "data": {
      "text/plain": [
       "0.06444444444444442"
      ]
     },
     "execution_count": 43,
     "metadata": {},
     "output_type": "execute_result"
    }
   ],
   "source": [
    "rf_mistakes = 1 - accuracy_score(y_test, y_pred)\n",
    "rf_mistakes"
   ]
  },
  {
   "cell_type": "code",
   "execution_count": 44,
   "id": "35beeaf2-0e5a-4dac-af14-f7eeeba55ba0",
   "metadata": {},
   "outputs": [],
   "source": [
    "with open('ans2.txt', 'w') as f:\n",
    "    f.write(str(rf_mistakes))"
   ]
  },
  {
   "cell_type": "code",
   "execution_count": null,
   "id": "614a9c23-f522-4ab2-8a27-8cdf8c00b6dc",
   "metadata": {},
   "outputs": [],
   "source": []
  }
 ],
 "metadata": {
  "kernelspec": {
   "display_name": "Python 3",
   "language": "python",
   "name": "python3"
  },
  "language_info": {
   "codemirror_mode": {
    "name": "ipython",
    "version": 3
   },
   "file_extension": ".py",
   "mimetype": "text/x-python",
   "name": "python",
   "nbconvert_exporter": "python",
   "pygments_lexer": "ipython3",
   "version": "3.8.8"
  }
 },
 "nbformat": 4,
 "nbformat_minor": 5
}
